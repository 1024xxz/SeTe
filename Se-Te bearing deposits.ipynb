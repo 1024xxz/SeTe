{
 "cells": [
  {
   "cell_type": "markdown",
   "id": "37a22e81",
   "metadata": {},
   "source": [
    "# Pre-processing"
   ]
  },
  {
   "cell_type": "markdown",
   "id": "d51342a6",
   "metadata": {},
   "source": [
    "## KNN Interpolation"
   ]
  },
  {
   "cell_type": "code",
   "execution_count": null,
   "id": "f106a629",
   "metadata": {},
   "outputs": [],
   "source": [
    "import pandas as pd\n",
    "from sklearn.impute import KNNImputer\n",
    "\n",
    "# 读取CSV文件\n",
    "data = pd.read_csv(r'xxx.csv')\n",
    "\n",
    "# 分离标签列（类型）\n",
    "labels = data['Type']\n",
    "data = data.drop(columns=['Type'])\n",
    "\n",
    "# 初始化KNN填充器\n",
    "imputer = KNNImputer(n_neighbors=5)  # 可以调整n_neighbors参数来设置K值\n",
    "\n",
    "# 使用KNN填充空缺值\n",
    "data_filled = imputer.fit_transform(data)\n",
    "\n",
    "# 将填充后的数据转换为DataFrame\n",
    "data_filled = pd.DataFrame(data_filled, columns=data.columns)\n",
    "\n",
    "# 将标签列添加回数据中\n",
    "data_filled['Type'] = labels\n",
    "\n",
    "# 保存填充后的数据到新的CSV文件\n",
    "data_filled.to_csv(r'xxx.csv', index=False)"
   ]
  },
  {
   "cell_type": "markdown",
   "id": "9c7107fa",
   "metadata": {},
   "source": [
    "## CLR Transformation"
   ]
  },
  {
   "cell_type": "code",
   "execution_count": null,
   "id": "64e9e891",
   "metadata": {},
   "outputs": [],
   "source": [
    "import pandas as pd\n",
    "import numpy as np\n",
    "\n",
    "# 读取CSV文件\n",
    "data = pd.read_csv(r'xxx.csv')\n",
    "\n",
    "# 分离标签列（类型）\n",
    "labels = data['Type']\n",
    "data = data.drop(columns=['Type'])\n",
    "\n",
    "# 对数据进行居中对数变换\n",
    "data_transformed = np.log1p(data)  # 使用np.log1p函数来避免对0值取对数\n",
    "\n",
    "# 将标签列添加回数据中\n",
    "data_transformed['Type'] = labels\n",
    "\n",
    "# 保存变换后的数据到新的CSV文件\n",
    "data_transformed.to_csv(r'xxx.csv', index=False)"
   ]
  },
  {
   "cell_type": "markdown",
   "id": "d88582bd",
   "metadata": {},
   "source": [
    "# EDA"
   ]
  },
  {
   "cell_type": "code",
   "execution_count": null,
   "id": "4c089cc3",
   "metadata": {},
   "outputs": [],
   "source": [
    "import pandas as pd\n",
    "import seaborn as sns\n",
    "import matplotlib.pyplot as plt\n",
    "\n",
    "# 加载数据\n",
    "file_path = r'xxx.csv'\n",
    "data = pd.read_csv(file_path)\n",
    "\n",
    "# 设置字体为Palatino Linotype\n",
    "plt.rcParams['font.family'] = 'Palatino Linotype'\n",
    "\n",
    "# 使用 Seaborn 绘制散点图矩阵\n",
    "pairplot = sns.pairplot(data, hue='Type', markers='o', palette='tab10')\n",
    "\n",
    "# 修改图例的标签\n",
    "plt.legend(title='Type', loc='center left', bbox_to_anchor=(1, 0.5))\n",
    "current_legend = plt.gca().get_legend()\n",
    "\n",
    "# 修改图例的标签字符\n",
    "new_labels = ['Skarn', 'VMS', 'Epithermal', 'Orogenic', 'Carlin', 'Porphyry', 'Magmatic Sulfide']\n",
    "for i, label in enumerate(current_legend.texts):\n",
    "    label.set_text(new_labels[i])\n",
    "\n",
    "plt.show()"
   ]
  },
  {
   "cell_type": "markdown",
   "id": "9c791012",
   "metadata": {},
   "source": [
    "# Correlation Analysis"
   ]
  },
  {
   "cell_type": "code",
   "execution_count": null,
   "id": "239b894c",
   "metadata": {},
   "outputs": [],
   "source": []
  },
  {
   "cell_type": "markdown",
   "id": "be6c4c9d",
   "metadata": {},
   "source": [
    "# PCA"
   ]
  },
  {
   "cell_type": "code",
   "execution_count": null,
   "id": "ee7779ca",
   "metadata": {},
   "outputs": [],
   "source": []
  },
  {
   "cell_type": "markdown",
   "id": "1b1ee8d7",
   "metadata": {},
   "source": [
    "# Silhouette Coefficient"
   ]
  },
  {
   "cell_type": "code",
   "execution_count": null,
   "id": "88589abf",
   "metadata": {},
   "outputs": [],
   "source": []
  },
  {
   "cell_type": "markdown",
   "id": "3f885b66",
   "metadata": {},
   "source": [
    "# Hyperparameters Tuning"
   ]
  },
  {
   "cell_type": "markdown",
   "id": "00f5f2c0",
   "metadata": {},
   "source": [
    "## SVM "
   ]
  },
  {
   "cell_type": "code",
   "execution_count": null,
   "id": "aec4b8d9",
   "metadata": {},
   "outputs": [],
   "source": []
  },
  {
   "cell_type": "markdown",
   "id": "4d31ad0e",
   "metadata": {},
   "source": [
    "## RF"
   ]
  },
  {
   "cell_type": "code",
   "execution_count": null,
   "id": "85bbebc3",
   "metadata": {},
   "outputs": [],
   "source": []
  },
  {
   "cell_type": "markdown",
   "id": "5685d269",
   "metadata": {},
   "source": [
    "# Evaluation"
   ]
  },
  {
   "cell_type": "code",
   "execution_count": null,
   "id": "a2429182",
   "metadata": {},
   "outputs": [],
   "source": []
  },
  {
   "cell_type": "markdown",
   "id": "be3a84fd",
   "metadata": {},
   "source": [
    "# 决策边界（二维判别图的横纵两轴）"
   ]
  },
  {
   "cell_type": "code",
   "execution_count": null,
   "id": "3fea96d9",
   "metadata": {},
   "outputs": [],
   "source": [
    "#使用svm分类器\n",
    "import numpy as np\n",
    "import matplotlib.pyplot as plt\n",
    "from sklearn.decomposition import PCA  \n",
    "from matplotlib.colors import ListedColormap\n",
    "from sklearn.model_selection import train_test_split  \n",
    "from sklearn import datasets\n",
    "from sklearn import svm\n",
    "from sklearn.linear_model import LogisticRegression\n",
    "import pandas as pd#导入pandas库\n",
    "df_wine=pd.read_csv(r'xxx.csv')\n",
    "mydata_data=df_wine[df_wine.columns[1:]].values\n",
    "mydata_target=df_wine['Type'].values\n",
    "\n",
    "from sklearn.preprocessing import StandardScaler  \n",
    "stdScale1 = StandardScaler().fit(mydata_data) #生成规则(建模)  \n",
    "mydata_trainScaler = stdScale1.transform(mydata_data)#对训练集进行标准化  \n",
    "x1=mydata_trainScaler\n",
    "y1=mydata_target\n",
    "\n",
    "gamma=50\n",
    "svc=svm.SVC(kernel='rbf',C=10,gamma=gamma)\n",
    "svc.fit(x1,y1)\n",
    "print('SV number:',svc.support_)\n",
    "print('SV set:',svc.support_vectors_)\n",
    "print('SVC score:',svc.score(x1,y1))\n",
    "print(40*'*')\n",
    "logi = LogisticRegression(C=1.0,penalty='l2',solver='sag',max_iter=1000)\n",
    " \n",
    "svc_linear=svm.SVC(C=1.0,kernel=\"linear\")\n",
    " \n",
    "svc_rbf1=svm.SVC(C=1.0,kernel=\"rbf\",gamma=0.5)\n",
    " \n",
    "svc_rbf2=svm.SVC(C=1.0,kernel=\"rbf\",gamma=50)\n",
    "clfs=[logi,svc_linear,svc_rbf1,svc_rbf2]\n",
    "titles=[\"逻辑斯蒂回归\",'线性回归函数SVM','RBF核函数(gamma=0.5)','RBF核函数(gamma=50)']\n",
    "clr1=[logi]\n",
    " \n",
    "for clf,i in zip(clfs,range(len(clfs))):\n",
    "    clf.fit(x1,y1)\n",
    "    print(titles[i],'在全体样本集上的性能评分：',clf.score(x1,y1))\n",
    "print(40*'*')"
   ]
  },
  {
   "cell_type": "markdown",
   "id": "930d7332",
   "metadata": {},
   "source": [
    "# SHAP"
   ]
  },
  {
   "cell_type": "code",
   "execution_count": null,
   "id": "6f821835",
   "metadata": {},
   "outputs": [],
   "source": [
    "import pandas as pd\n",
    "from sklearn.model_selection import train_test_split\n",
    "from sklearn.ensemble import RandomForestClassifier\n",
    "from sklearn.metrics import confusion_matrix, roc_curve, auc\n",
    "import matplotlib.pyplot as plt\n",
    "import numpy as np\n",
    "import seaborn as sns\n",
    "\n",
    "# 1. 加载CSV数据\n",
    "data = pd.read_csv(r'E:\\LW\\DATA_NEW_CLR_COPY.csv')  # 替换 'your_data.csv' 为你的数据文件路径\n",
    "\n",
    "# 2. 分割数据集为特征 (X) 和标签 (y)\n",
    "X = data.iloc[:, 1:]  # 假设除了第一列的所有列都是特征\n",
    "y = data.iloc[:, 0]   # 第一列是标签\n",
    "\n",
    "# 3. 将数据集划分为训练集和测试集\n",
    "X_train, X_test, y_train, y_test = train_test_split(X, y, test_size=0.2, random_state=42)\n",
    "\n",
    "# 4. 创建随机森林分类器\n",
    "rf_classifier = RandomForestClassifier(n_estimators=175, max_depth=20, random_state=42)\n",
    "\n",
    "# 5. 训练分类器\n",
    "rf_classifier.fit(X_train, y_train)\n",
    "\n",
    "# 6. 进行预测\n",
    "y_pred = rf_classifier.predict(X_test)\n",
    "\n",
    "# 7. 可视化混淆矩阵\n",
    "confusion = confusion_matrix(y_test, y_pred)\n",
    "plt.figure(figsize=(8, 6))\n",
    "sns.heatmap(confusion, annot=True, fmt=\"d\", cmap=\"Blues\", cbar=False)\n",
    "plt.xlabel(\"Predicted\")\n",
    "plt.ylabel(\"Actual\")\n",
    "plt.title(\"Confusion Matrix\")\n",
    "plt.show()\n",
    "# 8. 可视化ROC曲线\n",
    "plt.figure(figsize=(8, 6))\n",
    "\n",
    "# 计算每个类别的ROC曲线\n",
    "fpr = dict()\n",
    "tpr = dict()\n",
    "roc_auc = dict()\n",
    "for i in range(len(np.unique(y))):\n",
    "    y_one_hot = (y_test == i).astype(int)\n",
    "    y_score = rf_classifier.predict_proba(X_test)[:, i]\n",
    "    fpr[i], tpr[i], _ = roc_curve(y_one_hot, y_score)\n",
    "    roc_auc[i] = auc(fpr[i], tpr[i])\n",
    "\n",
    "# 绘制所有类别的ROC曲线\n",
    "for i in range(len(np.unique(y))):\n",
    "    plt.plot(fpr[i], tpr[i], label=f'Class {i} (AUC = {roc_auc[i]:.4f})')\n",
    "\n",
    "plt.plot([0, 1], [0, 1], 'k--')\n",
    "plt.xlim([0.0, 1.0])\n",
    "plt.ylim([0.0, 1.05])\n",
    "plt.xlabel('False Positive Rate')\n",
    "plt.ylabel('True Positive Rate')\n",
    "plt.title('ROC Curve')\n",
    "plt.legend(loc=\"lower right\")\n",
    "plt.show()\n",
    "\n",
    "from sklearn.metrics import accuracy_score\n",
    "y_test_pred_svm = rf_classifier.predict(X_test)\n",
    "test_accuracy_svm = accuracy_score(y_test, y_test_pred_svm)  # 计算训练集的精度\n",
    "print(\"Test Accuracy (GB):\", test_accuracy_svm)"
   ]
  },
  {
   "cell_type": "code",
   "execution_count": null,
   "id": "bb1a1d1c",
   "metadata": {},
   "outputs": [],
   "source": [
    "import shap\n",
    "import matplotlib.pyplot as plt\n",
    "\n",
    "# 假设 rf_classifier、X_test、data 和 y 在此代码之前已经定义\n",
    "# 7. 可视化混淆矩阵\n",
    "explainer = shap.TreeExplainer(rf_classifier)\n",
    "shap_values = explainer.shap_values(X_test)\n",
    "\n",
    "# 8. 可视化SHAP值\n",
    "shap.summary_plot(shap_values, X_test, feature_names=data.columns[1:], class_names=np.unique(y), plot_type=\"bar\")"
   ]
  },
  {
   "cell_type": "code",
   "execution_count": null,
   "id": "3b658104",
   "metadata": {},
   "outputs": [],
   "source": [
    "import pandas as pd\n",
    "from sklearn.model_selection import train_test_split\n",
    "from sklearn.ensemble import RandomForestClassifier\n",
    "import shap\n",
    "import matplotlib.pyplot as plt\n",
    "\n",
    "# 设置中文字体为 Palatino Linotype\n",
    "plt.rcParams['font.sans-serif'] = ['Palatino Linotype']\n",
    "plt.rcParams['axes.unicode_minus'] = False  # 用来正常显示负号\n",
    "\n",
    "# 1. 加载CSV数据\n",
    "data = pd.read_csv(r'E:\\LW\\DATA_NEW_CLR_COPY.csv')  # 替换 'your_data.csv' 为你的数据文件路径\n",
    "\n",
    "# 2. 分割数据集为特征 (X) 和标签 (y)\n",
    "X = data.iloc[:, 1:]  # 假设除了第一列的所有列都是特征\n",
    "y = data.iloc[:, 0]   # 第一列是标签\n",
    "\n",
    "# 3. 将数据集划分为训练集和测试集\n",
    "X_train, X_test, y_train, y_test = train_test_split(X, y, test_size=0.2, random_state=42)\n",
    "\n",
    "# 4. 创建随机森林分类器\n",
    "rf_classifier = RandomForestClassifier(n_estimators=151, max_depth=20, random_state=42)\n",
    "\n",
    "# 5. 训练分类器\n",
    "rf_classifier.fit(X_train, y_train)\n",
    "\n",
    "# 6. 使用 shap 计算 Shapley 值\n",
    "explainer = shap.TreeExplainer(rf_classifier)\n",
    "shap_values = explainer.shap_values(X_test)\n",
    "\n",
    "# 绘制 Shapley 值摘要图，并添加标签信息\n",
    "for output_index in range(len(shap_values)):\n",
    "    shap.summary_plot(shap_values[output_index], X_test, plot_type=\"dot\", title=f\"Output {output_index}\", feature_names=X_test.columns)\n",
    "    plt.figure()  # 创建新的图形\n",
    "plt.show()  # 显示所有摘要图\n"
   ]
  }
 ],
 "metadata": {
  "kernelspec": {
   "display_name": "Python 3 (ipykernel)",
   "language": "python",
   "name": "python3"
  },
  "language_info": {
   "codemirror_mode": {
    "name": "ipython",
    "version": 3
   },
   "file_extension": ".py",
   "mimetype": "text/x-python",
   "name": "python",
   "nbconvert_exporter": "python",
   "pygments_lexer": "ipython3",
   "version": "3.10.9"
  }
 },
 "nbformat": 4,
 "nbformat_minor": 5
}
